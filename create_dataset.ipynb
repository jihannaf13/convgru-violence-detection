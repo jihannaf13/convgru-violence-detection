{
 "cells": [
  {
   "cell_type": "markdown",
   "metadata": {},
   "source": [
    "Create Dataset and apply CNN; Change the path in base_config\n"
   ]
  },
  {
   "cell_type": "code",
   "execution_count": 1,
   "metadata": {},
   "outputs": [
    {
     "name": "stderr",
     "output_type": "stream",
     "text": [
      "Seed set to 42\n"
     ]
    },
    {
     "name": "stdout",
     "output_type": "stream",
     "text": [
      "Creating Dataset to .npz\n",
      "Start converting training data\n"
     ]
    },
    {
     "data": {
      "application/vnd.jupyter.widget-view+json": {
       "model_id": "3952ade05dd147169cf54b128055222d",
       "version_major": 2,
       "version_minor": 0
      },
      "text/plain": [
       "Output()"
      ]
     },
     "metadata": {},
     "output_type": "display_data"
    },
    {
     "data": {
      "text/html": [
       "<pre style=\"white-space:pre;overflow-x:auto;line-height:normal;font-family:Menlo,'DejaVu Sans Mono',consolas,'Courier New',monospace\"></pre>\n"
      ],
      "text/plain": []
     },
     "metadata": {},
     "output_type": "display_data"
    },
    {
     "data": {
      "text/html": [
       "<pre style=\"white-space:pre;overflow-x:auto;line-height:normal;font-family:Menlo,'DejaVu Sans Mono',consolas,'Courier New',monospace\">\n",
       "</pre>\n"
      ],
      "text/plain": [
       "\n"
      ]
     },
     "metadata": {},
     "output_type": "display_data"
    },
    {
     "data": {
      "application/vnd.jupyter.widget-view+json": {
       "model_id": "46930554483b4fa495027941f6bb0390",
       "version_major": 2,
       "version_minor": 0
      },
      "text/plain": [
       "Output()"
      ]
     },
     "metadata": {},
     "output_type": "display_data"
    },
    {
     "name": "stdout",
     "output_type": "stream",
     "text": [
      "Dataset saved to E:/dataset TA/Models/npz_dataset/train_1.npz\n",
      "Start converting validation data\n"
     ]
    },
    {
     "data": {
      "text/html": [
       "<pre style=\"white-space:pre;overflow-x:auto;line-height:normal;font-family:Menlo,'DejaVu Sans Mono',consolas,'Courier New',monospace\">Frames Shape Val: torch.Size([30, 3, 240, 240])\n",
       "</pre>\n"
      ],
      "text/plain": [
       "Frames Shape Val: torch.Size([30, 3, 240, 240])\n"
      ]
     },
     "metadata": {},
     "output_type": "display_data"
    },
    {
     "data": {
      "text/html": [
       "<pre style=\"white-space:pre;overflow-x:auto;line-height:normal;font-family:Menlo,'DejaVu Sans Mono',consolas,'Courier New',monospace\">Labels Shape Val: 1\n",
       "</pre>\n"
      ],
      "text/plain": [
       "Labels Shape Val: 1\n"
      ]
     },
     "metadata": {},
     "output_type": "display_data"
    },
    {
     "data": {
      "text/html": [
       "<pre style=\"white-space:pre;overflow-x:auto;line-height:normal;font-family:Menlo,'DejaVu Sans Mono',consolas,'Courier New',monospace\">Frames Shape Val: torch.Size([30, 3, 240, 240])\n",
       "</pre>\n"
      ],
      "text/plain": [
       "Frames Shape Val: torch.Size([30, 3, 240, 240])\n"
      ]
     },
     "metadata": {},
     "output_type": "display_data"
    },
    {
     "data": {
      "text/html": [
       "<pre style=\"white-space:pre;overflow-x:auto;line-height:normal;font-family:Menlo,'DejaVu Sans Mono',consolas,'Courier New',monospace\">Labels Shape Val: 0\n",
       "</pre>\n"
      ],
      "text/plain": [
       "Labels Shape Val: 0\n"
      ]
     },
     "metadata": {},
     "output_type": "display_data"
    },
    {
     "data": {
      "text/html": [
       "<pre style=\"white-space:pre;overflow-x:auto;line-height:normal;font-family:Menlo,'DejaVu Sans Mono',consolas,'Courier New',monospace\"></pre>\n"
      ],
      "text/plain": []
     },
     "metadata": {},
     "output_type": "display_data"
    },
    {
     "data": {
      "text/html": [
       "<pre style=\"white-space:pre;overflow-x:auto;line-height:normal;font-family:Menlo,'DejaVu Sans Mono',consolas,'Courier New',monospace\">\n",
       "</pre>\n"
      ],
      "text/plain": [
       "\n"
      ]
     },
     "metadata": {},
     "output_type": "display_data"
    },
    {
     "data": {
      "application/vnd.jupyter.widget-view+json": {
       "model_id": "85d04a49f7524a63aa6dfae4fb33f417",
       "version_major": 2,
       "version_minor": 0
      },
      "text/plain": [
       "Output()"
      ]
     },
     "metadata": {},
     "output_type": "display_data"
    },
    {
     "data": {
      "text/html": [
       "<pre style=\"white-space:pre;overflow-x:auto;line-height:normal;font-family:Menlo,'DejaVu Sans Mono',consolas,'Courier New',monospace\">Start loading dataset from E:/dataset TA/Models/npz_dataset/train_1.npz\n",
       "</pre>\n"
      ],
      "text/plain": [
       "Start loading dataset from E:/dataset TA/Models/npz_dataset/train_1.npz\n"
      ]
     },
     "metadata": {},
     "output_type": "display_data"
    },
    {
     "data": {
      "text/html": [
       "<pre style=\"white-space:pre;overflow-x:auto;line-height:normal;font-family:Menlo,'DejaVu Sans Mono',consolas,'Courier New',monospace\">Dataset loaded\n",
       "</pre>\n"
      ],
      "text/plain": [
       "Dataset loaded\n"
      ]
     },
     "metadata": {},
     "output_type": "display_data"
    },
    {
     "name": "stdout",
     "output_type": "stream",
     "text": [
      "Dataset saved to E:/dataset TA/Models/npz_dataset/val_1.npz\n",
      "Apply CNN and Transfer Learning\n"
     ]
    },
    {
     "data": {
      "text/html": [
       "<pre style=\"white-space:pre;overflow-x:auto;line-height:normal;font-family:Menlo,'DejaVu Sans Mono',consolas,'Courier New',monospace\"></pre>\n"
      ],
      "text/plain": []
     },
     "metadata": {},
     "output_type": "display_data"
    },
    {
     "data": {
      "text/html": [
       "<pre style=\"white-space:pre;overflow-x:auto;line-height:normal;font-family:Menlo,'DejaVu Sans Mono',consolas,'Courier New',monospace\">\n",
       "</pre>\n"
      ],
      "text/plain": [
       "\n"
      ]
     },
     "metadata": {},
     "output_type": "display_data"
    },
    {
     "data": {
      "application/vnd.jupyter.widget-view+json": {
       "model_id": "c53d411ddd964593b7bd7590d8476b28",
       "version_major": 2,
       "version_minor": 0
      },
      "text/plain": [
       "Output()"
      ]
     },
     "metadata": {},
     "output_type": "display_data"
    },
    {
     "data": {
      "text/html": [
       "<pre style=\"white-space:pre;overflow-x:auto;line-height:normal;font-family:Menlo,'DejaVu Sans Mono',consolas,'Courier New',monospace\">Start converting data to tensors\n",
       "</pre>\n"
      ],
      "text/plain": [
       "Start converting data to tensors\n"
      ]
     },
     "metadata": {},
     "output_type": "display_data"
    },
    {
     "data": {
      "text/html": [
       "<pre style=\"white-space:pre;overflow-x:auto;line-height:normal;font-family:Menlo,'DejaVu Sans Mono',consolas,'Courier New',monospace\">Frame[0] Shape:  torch.Size([30, 3, 240, 240])\n",
       "</pre>\n"
      ],
      "text/plain": [
       "Frame[0] Shape:  torch.Size([30, 3, 240, 240])\n"
      ]
     },
     "metadata": {},
     "output_type": "display_data"
    },
    {
     "data": {
      "text/html": [
       "<pre style=\"white-space:pre;overflow-x:auto;line-height:normal;font-family:Menlo,'DejaVu Sans Mono',consolas,'Courier New',monospace\">Labels[0] Shape:  tensor(1)\n",
       "</pre>\n"
      ],
      "text/plain": [
       "Labels[0] Shape:  tensor(1)\n"
      ]
     },
     "metadata": {},
     "output_type": "display_data"
    },
    {
     "data": {
      "text/html": [
       "<pre style=\"white-space:pre;overflow-x:auto;line-height:normal;font-family:Menlo,'DejaVu Sans Mono',consolas,'Courier New',monospace\">Data converted to tensors\n",
       "</pre>\n"
      ],
      "text/plain": [
       "Data converted to tensors\n"
      ]
     },
     "metadata": {},
     "output_type": "display_data"
    },
    {
     "data": {
      "text/html": [
       "<pre style=\"white-space:pre;overflow-x:auto;line-height:normal;font-family:Menlo,'DejaVu Sans Mono',consolas,'Courier New',monospace\"></pre>\n"
      ],
      "text/plain": []
     },
     "metadata": {},
     "output_type": "display_data"
    },
    {
     "data": {
      "text/html": [
       "<pre style=\"white-space:pre;overflow-x:auto;line-height:normal;font-family:Menlo,'DejaVu Sans Mono',consolas,'Courier New',monospace\">\n",
       "</pre>\n"
      ],
      "text/plain": [
       "\n"
      ]
     },
     "metadata": {},
     "output_type": "display_data"
    },
    {
     "name": "stdout",
     "output_type": "stream",
     "text": [
      "Start extracting features\n",
      "Finish extracting features\n"
     ]
    },
    {
     "data": {
      "application/vnd.jupyter.widget-view+json": {
       "model_id": "df4cd70ceed442539582ea3bf4084abb",
       "version_major": 2,
       "version_minor": 0
      },
      "text/plain": [
       "Output()"
      ]
     },
     "metadata": {},
     "output_type": "display_data"
    },
    {
     "data": {
      "text/html": [
       "<pre style=\"white-space:pre;overflow-x:auto;line-height:normal;font-family:Menlo,'DejaVu Sans Mono',consolas,'Courier New',monospace\">Start loading dataset from E:/dataset TA/Models/npz_dataset/val_1.npz\n",
       "</pre>\n"
      ],
      "text/plain": [
       "Start loading dataset from E:/dataset TA/Models/npz_dataset/val_1.npz\n"
      ]
     },
     "metadata": {},
     "output_type": "display_data"
    },
    {
     "data": {
      "text/html": [
       "<pre style=\"white-space:pre;overflow-x:auto;line-height:normal;font-family:Menlo,'DejaVu Sans Mono',consolas,'Courier New',monospace\">Dataset loaded\n",
       "</pre>\n"
      ],
      "text/plain": [
       "Dataset loaded\n"
      ]
     },
     "metadata": {},
     "output_type": "display_data"
    },
    {
     "name": "stdout",
     "output_type": "stream",
     "text": [
      "Apply CNN and Transfer Learning\n"
     ]
    },
    {
     "data": {
      "text/html": [
       "<pre style=\"white-space:pre;overflow-x:auto;line-height:normal;font-family:Menlo,'DejaVu Sans Mono',consolas,'Courier New',monospace\"></pre>\n"
      ],
      "text/plain": []
     },
     "metadata": {},
     "output_type": "display_data"
    },
    {
     "data": {
      "text/html": [
       "<pre style=\"white-space:pre;overflow-x:auto;line-height:normal;font-family:Menlo,'DejaVu Sans Mono',consolas,'Courier New',monospace\">\n",
       "</pre>\n"
      ],
      "text/plain": [
       "\n"
      ]
     },
     "metadata": {},
     "output_type": "display_data"
    },
    {
     "data": {
      "application/vnd.jupyter.widget-view+json": {
       "model_id": "c3b92f2454d84a6db96b5213b850dd5a",
       "version_major": 2,
       "version_minor": 0
      },
      "text/plain": [
       "Output()"
      ]
     },
     "metadata": {},
     "output_type": "display_data"
    },
    {
     "data": {
      "text/html": [
       "<pre style=\"white-space:pre;overflow-x:auto;line-height:normal;font-family:Menlo,'DejaVu Sans Mono',consolas,'Courier New',monospace\">Start converting data to tensors\n",
       "</pre>\n"
      ],
      "text/plain": [
       "Start converting data to tensors\n"
      ]
     },
     "metadata": {},
     "output_type": "display_data"
    },
    {
     "data": {
      "text/html": [
       "<pre style=\"white-space:pre;overflow-x:auto;line-height:normal;font-family:Menlo,'DejaVu Sans Mono',consolas,'Courier New',monospace\">Frame[0] Shape:  torch.Size([30, 3, 240, 240])\n",
       "</pre>\n"
      ],
      "text/plain": [
       "Frame[0] Shape:  torch.Size([30, 3, 240, 240])\n"
      ]
     },
     "metadata": {},
     "output_type": "display_data"
    },
    {
     "data": {
      "text/html": [
       "<pre style=\"white-space:pre;overflow-x:auto;line-height:normal;font-family:Menlo,'DejaVu Sans Mono',consolas,'Courier New',monospace\">Labels[0] Shape:  tensor(1)\n",
       "</pre>\n"
      ],
      "text/plain": [
       "Labels[0] Shape:  tensor(1)\n"
      ]
     },
     "metadata": {},
     "output_type": "display_data"
    },
    {
     "data": {
      "text/html": [
       "<pre style=\"white-space:pre;overflow-x:auto;line-height:normal;font-family:Menlo,'DejaVu Sans Mono',consolas,'Courier New',monospace\">Data converted to tensors\n",
       "</pre>\n"
      ],
      "text/plain": [
       "Data converted to tensors\n"
      ]
     },
     "metadata": {},
     "output_type": "display_data"
    },
    {
     "data": {
      "text/html": [
       "<pre style=\"white-space:pre;overflow-x:auto;line-height:normal;font-family:Menlo,'DejaVu Sans Mono',consolas,'Courier New',monospace\"></pre>\n"
      ],
      "text/plain": []
     },
     "metadata": {},
     "output_type": "display_data"
    },
    {
     "data": {
      "text/html": [
       "<pre style=\"white-space:pre;overflow-x:auto;line-height:normal;font-family:Menlo,'DejaVu Sans Mono',consolas,'Courier New',monospace\">\n",
       "</pre>\n"
      ],
      "text/plain": [
       "\n"
      ]
     },
     "metadata": {},
     "output_type": "display_data"
    },
    {
     "name": "stdout",
     "output_type": "stream",
     "text": [
      "Start extracting features\n",
      "Finish extracting features\n"
     ]
    }
   ],
   "source": [
    "#Import Dataset\n",
    "from dataset_factories.dataset_maker import create_dataset\n",
    "#Status = make_dataset for extracting dataset from video\n",
    "create_dataset(status='make_dataset')"
   ]
  },
  {
   "cell_type": "markdown",
   "metadata": {},
   "source": [
    "Save to NPZ (Validation)"
   ]
  },
  {
   "cell_type": "code",
   "execution_count": 2,
   "metadata": {},
   "outputs": [
    {
     "name": "stdout",
     "output_type": "stream",
     "text": [
      "Final concatenated dataset saved to E:/dataset TA/Models/npz_dataset/val_cnn_resnet50_8_updated_1.npz\n"
     ]
    }
   ],
   "source": [
    "import numpy as np\n",
    "import torch\n",
    "import os\n",
    "from config.base_config import DEFAULT_DATASET_CONFIG\n",
    "\n",
    "npz_train_cnn_dir = DEFAULT_DATASET_CONFIG['train_cnn_npz_dir']\n",
    "npz_val_cnn_dir = DEFAULT_DATASET_CONFIG['validation_cnn_npz_dir']\n",
    "\n",
    "# Directory where the NPZ files are stored\n",
    "temp_dir = \"E:/dataset TA/Models/temp/val\"\n",
    "output_file = npz_val_cnn_dir\n",
    "\n",
    "# List of NPZ files\n",
    "temp_feature_files = sorted([os.path.join(temp_dir, f) for f in os.listdir(temp_dir) if f.startswith(\"temp_features_\") and f.endswith(\".npz\")])\n",
    "temp_label_files = sorted([os.path.join(temp_dir, f) for f in os.listdir(temp_dir) if f.startswith(\"temp_labels_\") and f.endswith(\".npz\")])\n",
    "\n",
    "all_features = []\n",
    "all_labels = []\n",
    "\n",
    "# Load and concatenate features\n",
    "for temp_feature_file in temp_feature_files:\n",
    "    temp_data = np.load(temp_feature_file)\n",
    "    all_features.append(torch.tensor(temp_data['frames']))\n",
    "    temp_data.close()\n",
    "\n",
    "# Concatenate all features\n",
    "all_features = torch.cat(all_features, dim=0)\n",
    "\n",
    "# Load and concatenate labels\n",
    "for temp_label_file in temp_label_files:\n",
    "    temp_data = np.load(temp_label_file)\n",
    "    all_labels.extend(temp_data['labels'])\n",
    "    temp_data.close()\n",
    "\n",
    "all_labels = torch.tensor(all_labels)\n",
    "\n",
    "# Save the final concatenated features and labels\n",
    "np.savez(output_file, frames=all_features.numpy(), labels=all_labels.numpy())\n",
    "print(f\"Final concatenated dataset saved to {output_file}\")\n",
    "\n",
    "# Optional: Remove temporary files if needed\n",
    "for temp_file in temp_feature_files + temp_label_files:\n",
    "    os.remove(temp_file)"
   ]
  },
  {
   "cell_type": "markdown",
   "metadata": {},
   "source": [
    "Save to NPZ (Train)"
   ]
  },
  {
   "cell_type": "code",
   "execution_count": 3,
   "metadata": {},
   "outputs": [
    {
     "name": "stdout",
     "output_type": "stream",
     "text": [
      "Final concatenated dataset saved to E:/dataset TA/Models/npz_dataset/train_cnn_resnet50_8_updated_1.npz\n"
     ]
    }
   ],
   "source": [
    "import numpy as np\n",
    "import torch\n",
    "import os\n",
    "from config.base_config import DEFAULT_DATASET_CONFIG\n",
    "\n",
    "npz_train_cnn_dir = DEFAULT_DATASET_CONFIG['train_cnn_npz_dir']\n",
    "npz_val_cnn_dir = DEFAULT_DATASET_CONFIG['validation_cnn_npz_dir']\n",
    "\n",
    "# Directory where the NPZ files are stored\n",
    "temp_dir = \"E:/dataset TA/Models/temp/train\"\n",
    "output_file = npz_train_cnn_dir\n",
    "\n",
    "# List of NPZ files\n",
    "temp_feature_files = sorted([os.path.join(temp_dir, f) for f in os.listdir(temp_dir) if f.startswith(\"temp_features_\") and f.endswith(\".npz\")])\n",
    "temp_label_files = sorted([os.path.join(temp_dir, f) for f in os.listdir(temp_dir) if f.startswith(\"temp_labels_\") and f.endswith(\".npz\")])\n",
    "\n",
    "all_features = []\n",
    "all_labels = []\n",
    "\n",
    "# Load and concatenate features\n",
    "for temp_feature_file in temp_feature_files:\n",
    "    temp_data = np.load(temp_feature_file)\n",
    "    all_features.append(torch.tensor(temp_data['frames']))\n",
    "    temp_data.close()\n",
    "\n",
    "# Concatenate all features\n",
    "all_features = torch.cat(all_features, dim=0)\n",
    "\n",
    "# Load and concatenate labels\n",
    "for temp_label_file in temp_label_files:\n",
    "    temp_data = np.load(temp_label_file)\n",
    "    all_labels.extend(temp_data['labels'])\n",
    "    temp_data.close()\n",
    "\n",
    "all_labels = torch.tensor(all_labels)\n",
    "\n",
    "# Save the final concatenated features and labels\n",
    "np.savez(output_file, frames=all_features.numpy(), labels=all_labels.numpy())\n",
    "print(f\"Final concatenated dataset saved to {output_file}\")\n",
    "\n",
    "# Optional: Remove temporary files if needed\n",
    "for temp_file in temp_feature_files + temp_label_files:\n",
    "    os.remove(temp_file)"
   ]
  }
 ],
 "metadata": {
  "kernelspec": {
   "display_name": "torch",
   "language": "python",
   "name": "python3"
  },
  "language_info": {
   "codemirror_mode": {
    "name": "ipython",
    "version": 3
   },
   "file_extension": ".py",
   "mimetype": "text/x-python",
   "name": "python",
   "nbconvert_exporter": "python",
   "pygments_lexer": "ipython3",
   "version": "3.9.19"
  }
 },
 "nbformat": 4,
 "nbformat_minor": 2
}
